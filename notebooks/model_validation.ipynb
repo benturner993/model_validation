{
 "cells": [
  {
   "cell_type": "markdown",
   "metadata": {},
   "source": [
    "# Objective\n",
    "The object of this code repository is to automate and simplify the scoring of classification models.\n",
    "\n",
    "# What does it do?\n",
    "For any input csv input with *id* and *predictions*, this code will automatically generate:\n",
    "    \n",
    "* Confusion matrix\n",
    "* Accuracy score\n",
    "* Null accuracy score\n",
    "* Precision score\n",
    "* Recall score\n",
    "* F1 score\n",
    "* AUROC\n",
    "* MCC\n",
    "* MSE\n",
    "* X-Graph\n",
    "\n",
    "# Instructions\n",
    "To use:\n",
    "* Place .exe file in the same directory as your .csv file\n",
    "* Run the .exe file\n",
    "* Where prompted, input the names of your models, the csv and the predictions columns (in probability format)\n",
    "* Wait for the process to finish\n",
    "* The output will be a .txt file and a .png graph in your working directory\n",
    "\n",
    "# Notes\n",
    "At present this code is only created for use with classification models.\n",
    "For any errors please contact Ben"
   ]
  },
  {
   "cell_type": "code",
   "execution_count": 1,
   "metadata": {},
   "outputs": [
    {
     "name": "stdout",
     "output_type": "stream",
     "text": [
      "/Users/Ben/Desktop/model_validation\n"
     ]
    }
   ],
   "source": [
    "import os\n",
    "mycwd = os.chdir('/Users/Ben/Desktop/model_validation/')\n",
    "print(os.getcwd())"
   ]
  },
  {
   "cell_type": "code",
   "execution_count": 2,
   "metadata": {},
   "outputs": [],
   "source": [
    "import pandas as pd\n",
    "import numpy as np\n",
    "import sys\n",
    "import getpass\n",
    "import matplotlib.pyplot as plt\n",
    "from sklearn.metrics import confusion_matrix, accuracy_score, precision_score, recall_score, \\\n",
    "f1_score, roc_auc_score, matthews_corrcoef"
   ]
  },
  {
   "cell_type": "code",
   "execution_count": 3,
   "metadata": {},
   "outputs": [
    {
     "name": "stdout",
     "output_type": "stream",
     "text": [
      "Enter the name of Model 1 (e.g. New Model): Model1\n",
      "Enter the name of Model 2 (e.g. Old Model): Model2\n"
     ]
    }
   ],
   "source": [
    "# An input is requested and stored in a variable\n",
    "model1_name = input (\"Enter the name of Model 1 (e.g. New Model): \")\n",
    "model2_name = input (\"Enter the name of Model 2 (e.g. Old Model): \")"
   ]
  },
  {
   "cell_type": "code",
   "execution_count": 4,
   "metadata": {},
   "outputs": [
    {
     "name": "stdout",
     "output_type": "stream",
     "text": [
      "****************\n",
      "Model Validation\n",
      "****************\n",
      "\n",
      "Model1_Model2_results.txt initialised...\n",
      "\n",
      "\n"
     ]
    },
    {
     "data": {
      "text/plain": [
       "43"
      ]
     },
     "execution_count": 4,
     "metadata": {},
     "output_type": "execute_result"
    }
   ],
   "source": [
    "f = open(f\"{model1_name}_{model2_name}_results.txt\", \"a\")\n",
    "\n",
    "print(\"*\"*16)\n",
    "print('Model Validation')\n",
    "print(\"*\"*16)\n",
    "print(f\"\\n{model1_name}_{model2_name}_results.txt initialised...\\n\\n\")\n",
    "\n",
    "f.write(\"*\"*16)\n",
    "f.write('\\nModel Validation\\n')\n",
    "f.write(\"*\"*16)\n",
    "f.write(f\"\\n{model1_name}_{model2_name}_results.txt initialised...\\n\\n\")"
   ]
  },
  {
   "cell_type": "code",
   "execution_count": 5,
   "metadata": {},
   "outputs": [
    {
     "name": "stdout",
     "output_type": "stream",
     "text": [
      "Enter the name of the csv: model_predictions.csv\n",
      "Reading model_predictions.csv...\n",
      "\n",
      "\n"
     ]
    },
    {
     "data": {
      "text/plain": [
       "34"
      ]
     },
     "execution_count": 5,
     "metadata": {},
     "output_type": "execute_result"
    }
   ],
   "source": [
    "# read csv\n",
    "csv_name = input (\"Enter the name of the csv: \")\n",
    "# model_predictions.csv\n",
    "df=pd.read_csv(csv_name)\n",
    "print(f\"Reading {csv_name}...\\n\\n\")\n",
    "f.write(f\"Reading {csv_name}...\\n\\n\")"
   ]
  },
  {
   "cell_type": "code",
   "execution_count": 6,
   "metadata": {},
   "outputs": [
    {
     "name": "stdout",
     "output_type": "stream",
     "text": [
      "Model Names:\n",
      "Model 1 has been named Model1\n",
      "Model 2 has been named Model2\n"
     ]
    }
   ],
   "source": [
    "f.write(f\"Model Names:\\n\")\n",
    "f.write(f\"Model 1 has been named {model1_name}\\n\")\n",
    "f.write(f\"Model 2 has been named {model2_name}\\n\\n\")\n",
    "print(\"Model Names:\")\n",
    "print(f\"Model 1 has been named {model1_name}\")\n",
    "print(f\"Model 2 has been named {model2_name}\")"
   ]
  },
  {
   "cell_type": "code",
   "execution_count": 7,
   "metadata": {},
   "outputs": [
    {
     "name": "stdout",
     "output_type": "stream",
     "text": [
      "Enter the name of Model1 prediction column: pred1_prob\n",
      "Enter the name of Model1 prediction column: pred2_prob\n",
      "Enter the name actual column: actual\n",
      "Column Names:\n",
      "The assigned column for Model1 is pred1_prob\n",
      "The assigned column for Model2 is pred2_prob\n",
      "The assigned column for the response is actual\n",
      "\n"
     ]
    }
   ],
   "source": [
    "model1_pred_col =input (f\"Enter the name of {model1_name} prediction column: \")\n",
    "model2_pred_col =input (f\"Enter the name of {model1_name} prediction column: \")\n",
    "actual_col =input (\"Enter the name actual column: \")\n",
    "\n",
    "f.write('Column Names:\\n')\n",
    "f.write(f\"The assigned column for {model1_name} is {model1_pred_col}\\n\")\n",
    "f.write(f\"The assigned column for {model2_name} is {model2_pred_col}\\n\")\n",
    "f.write(f\"The assigned column for the response is {actual_col}\\n\\n\")\n",
    "print('Column Names:')\n",
    "print(f\"The assigned column for {model1_name} is {model1_pred_col}\")\n",
    "print(f\"The assigned column for {model2_name} is {model2_pred_col}\")\n",
    "print(f\"The assigned column for the response is {actual_col}\\n\")\n",
    "\n",
    "#id\tpred1_prob\tpred2_prob\tactual\tpred1\tpred2"
   ]
  },
  {
   "cell_type": "code",
   "execution_count": 8,
   "metadata": {},
   "outputs": [],
   "source": [
    "# np where statements\n",
    "df['pred1']=np.where(df[model1_pred_col]<0.5,0,1)\n",
    "df['pred2']=np.where(df[model2_pred_col]<0.5,0,1)"
   ]
  },
  {
   "cell_type": "code",
   "execution_count": 9,
   "metadata": {},
   "outputs": [],
   "source": [
    "def model_performance_metrics(model_name, y_train, train_pred, train_prob):\n",
    "    \n",
    "    ''' function to return the model performance metrics '''\n",
    "\n",
    "    lst = [0]*len(y_train)\n",
    "    print(f\"{model_name} Performance Metrics:\\n\")\n",
    "    tn, fp, fn, tp = confusion_matrix(train_pred, y_train).ravel()\n",
    "    print(f'True Negatives: {tn}, False Positives: {fp}, False Negatives: {fn}, True Positives: {tp}')\n",
    "    print(f'Null Accuracy Score: {accuracy_score(y_train, pd.Series(lst))}')\n",
    "    print(f'Accuracy Score: {accuracy_score(y_train, train_pred)}')\n",
    "    print(f'Precision Score: {precision_score(y_train, train_pred, average=None)}')\n",
    "    print(f'Recall Score: {recall_score(y_train, train_pred, average=None)}')\n",
    "    print(f'F1 Score: {f1_score(y_train, train_pred, average=None)}')\n",
    "    print(f'AUROC: {roc_auc_score(y_train, train_prob)}')\n",
    "    print(f'MCC: {matthews_corrcoef(y_train, train_pred)} \\n')\n",
    "    \n",
    "    f.write(f\"{model_name} Performance Metrics:\\n\")\n",
    "    tn, fp, fn, tp = confusion_matrix(train_pred, y_train).ravel()\n",
    "    f.write(f'True Negatives: {tn}, False Positives: {fp}, False Negatives: {fn}, True Positives: {tp}\\n')\n",
    "    f.write(f'Null Accuracy Score: {accuracy_score(y_train, pd.Series(lst))}\\n')\n",
    "    f.write(f'Accuracy Score: {accuracy_score(y_train, train_pred)}\\n')\n",
    "    f.write(f'Precision Score: {precision_score(y_train, train_pred, average=None)}\\n')\n",
    "    f.write(f'Recall Score: {recall_score(y_train, train_pred, average=None)}\\n')\n",
    "    f.write(f'F1 Score: {f1_score(y_train, train_pred, average=None)}\\n')\n",
    "    f.write(f'AUROC: {roc_auc_score(y_train, train_prob)}\\n')\n",
    "    f.write(f'MCC: {matthews_corrcoef(y_train, train_pred)} \\n\\n')"
   ]
  },
  {
   "cell_type": "code",
   "execution_count": 10,
   "metadata": {},
   "outputs": [
    {
     "name": "stdout",
     "output_type": "stream",
     "text": [
      "Model1 Performance Metrics:\n",
      "\n",
      "True Negatives: 2432, False Positives: 2588, False Negatives: 2474, True Positives: 2506\n",
      "Null Accuracy Score: 0.4906\n",
      "Accuracy Score: 0.4938\n",
      "Precision Score: [0.48446215 0.50321285]\n",
      "Recall Score: [0.49571953 0.49195132]\n",
      "F1 Score: [0.49002619 0.49751836]\n",
      "AUROC: 0.49039220422065977\n",
      "MCC: -0.012327077233192924 \n",
      "\n",
      "Model2 Performance Metrics:\n",
      "\n",
      "True Negatives: 2473, False Positives: 2583, False Negatives: 2433, True Positives: 2511\n",
      "Null Accuracy Score: 0.4906\n",
      "Accuracy Score: 0.4984\n",
      "Precision Score: [0.48912184 0.50788835]\n",
      "Recall Score: [0.50407664 0.49293286]\n",
      "F1 Score: [0.49648665 0.50029886]\n",
      "AUROC: 0.49530850183688924\n",
      "MCC: -0.002990155982383109 \n",
      "\n"
     ]
    }
   ],
   "source": [
    "model_performance_metrics(model1_name, df[actual_col], df['pred1'], df[model1_pred_col])\n",
    "model_performance_metrics(model2_name, df[actual_col], df['pred2'], df[model2_pred_col])"
   ]
  },
  {
   "cell_type": "code",
   "execution_count": 11,
   "metadata": {},
   "outputs": [],
   "source": [
    "def create_xgraph_inputs(unique_id, new_model_predictions, old_model_predictions, actuals, df, model_name1, model_name2):\n",
    "\n",
    "    cols=[unique_id, new_model_predictions, old_model_predictions, actuals]\n",
    "    df=df[cols]\n",
    "\n",
    "    # Calculate the difference\n",
    "    df['Diff']=(df[new_model_predictions]/df[old_model_predictions])-1\n",
    "    df['Band']=np.minimum(np.floor(df['Diff']*5)/5,2)\n",
    "\n",
    "    # Create Pivot Table\n",
    "    pivot=df.groupby('Band').size().reset_index(name='Count')\n",
    "    grouping=df.groupby('Band').sum().reset_index()\n",
    "    cols=['Band', 'Count', new_model_predictions, old_model_predictions, actuals]\n",
    "    pivot=pivot.merge(grouping, on='Band', how='left')[cols]\n",
    "\n",
    "    # Summarisation\n",
    "    constant=pivot[actuals].sum()/pivot[old_model_predictions].sum()\n",
    "    pivot['Current Model']=(pivot[old_model_predictions]/pivot['Count'])*constant\n",
    "\n",
    "    constant=pivot[actuals].sum()/pivot[new_model_predictions].sum()\n",
    "    pivot['New Model']=(pivot[new_model_predictions]/pivot['Count'])*constant\n",
    "\n",
    "    pivot['Observed Conversion']=pivot[actuals]/pivot['Count']\n",
    "\n",
    "    pivot['Squared Error Old']=pow(pivot['Current Model']-pivot['Observed Conversion'],2)*pivot['Count']\n",
    "    pivot['Squared Error New']=pow(pivot['New Model']-pivot['Observed Conversion'],2)*pivot['Count']\n",
    "\n",
    "    seo=pivot['Squared Error Old'].sum()\n",
    "    sen=pivot['Squared Error New'].sum()\n",
    "    \n",
    "    # output\n",
    "    print('Squared Errors:\\n')\n",
    "    print(f'{model_name1} Squared Error:', seo)\n",
    "    print(f'{model_name2} Squared Error:', sen)\n",
    "    f.write(\"Squared Errors:\\n\")\n",
    "    f.write(f\"{model_name1} Squared Error: {seo}\\n\")\n",
    "    f.write(f\"{model_name2} Squared Error: {sen}\\n\\n\")\n",
    "    \n",
    "    return pivot"
   ]
  },
  {
   "cell_type": "code",
   "execution_count": 12,
   "metadata": {},
   "outputs": [
    {
     "name": "stdout",
     "output_type": "stream",
     "text": [
      "Squared Errors:\n",
      "\n",
      "Model1 Squared Error: 459.0077237564804\n",
      "Model2 Squared Error: 489.84003763563805\n"
     ]
    },
    {
     "name": "stderr",
     "output_type": "stream",
     "text": [
      "/Library/Frameworks/Python.framework/Versions/3.7/lib/python3.7/site-packages/ipykernel_launcher.py:7: SettingWithCopyWarning: \n",
      "A value is trying to be set on a copy of a slice from a DataFrame.\n",
      "Try using .loc[row_indexer,col_indexer] = value instead\n",
      "\n",
      "See the caveats in the documentation: http://pandas.pydata.org/pandas-docs/stable/indexing.html#indexing-view-versus-copy\n",
      "  import sys\n"
     ]
    }
   ],
   "source": [
    "output_df=create_xgraph_inputs('id', 'pred1_prob', 'pred2_prob', 'actual', df, model1_name, model2_name)"
   ]
  },
  {
   "cell_type": "code",
   "execution_count": 13,
   "metadata": {},
   "outputs": [],
   "source": [
    "def create_xgraph(exposure, prop, curr, obs, diff_band, model1_name, model2_name):\n",
    "\n",
    "    ''' create Emblem style X-Graph '''\n",
    "\n",
    "\n",
    "    # Bar plot\n",
    "    plt.rcParams[\"figure.figsize\"] = (10,10)\n",
    "    N=len(exposure)\n",
    "    width = 0.2\n",
    "    plt.bar(diff_band, exposure, width, color='gold', label='Diff', edgecolor='k')\n",
    "    plt.xticks(rotation=90)\n",
    "    plt.ylim(0, max(exposure)*3)\n",
    "    plt.ylabel('Number of Policies')\n",
    "    plt.xlabel(f'Number of Policies')\n",
    "    plt.title(f'X-Graph')\n",
    "\n",
    "    # Line plot\n",
    "    axes2 = plt.twinx()\n",
    "    axes2.plot(diff_band, obs, color='fuchsia', marker=\"s\", markeredgecolor='black', label='Actual')\n",
    "    axes2.plot(diff_band, prop, color='blue', marker=\"D\", markeredgecolor='black', label=f'{model2_name} Model')\n",
    "    axes2.plot(diff_band, curr, color='g', marker=\"^\", markeredgecolor='black', label=f'{model1_name} Model')\n",
    "    axes2.set_ylabel('Cancellation Propensity')\n",
    "\n",
    "    # legend and settings\n",
    "    plt.legend(loc=\"upper left\")\n",
    "    plt.savefig(f'{model1_name}_vs_{model2_name}_graph.png')\n",
    "    plt.show()"
   ]
  },
  {
   "cell_type": "code",
   "execution_count": 14,
   "metadata": {},
   "outputs": [
    {
     "data": {
      "image/png": "[encoded data removed]",
      "text/plain": [
       "<Figure size 720x720 with 2 Axes>"
      ]
     },
     "metadata": {
      "needs_background": "light"
     },
     "output_type": "display_data"
    }
   ],
   "source": [
    "exposure=output_df['Count']\n",
    "diff_band=output_df['Band']\n",
    "obs=output_df['Observed Conversion']\n",
    "prop=output_df['New Model']\n",
    "curr=output_df['Current Model']\n",
    "\n",
    "create_xgraph(exposure, prop, curr, obs, diff_band, model1_name, model2_name)"
   ]
  },
  {
   "cell_type": "code",
   "execution_count": 15,
   "metadata": {},
   "outputs": [],
   "source": [
    "username = getpass.getuser()\n",
    "f.write(f\"Process ran by {username} is now complete.\\n\")\n",
    "f.write(f\"For any errors, bugs or future improvements, please contact Ben.\\n\")\n",
    "f.close()"
   ]
  }
 ],
 "metadata": {
  "kernelspec": {
   "display_name": "Python 3",
   "language": "python",
   "name": "python3"
  },
  "language_info": {
   "codemirror_mode": {
    "name": "ipython",
    "version": 3
   },
   "file_extension": ".py",
   "mimetype": "text/x-python",
   "name": "python",
   "nbconvert_exporter": "python",
   "pygments_lexer": "ipython3",
   "version": "3.7.0"
  }
 },
 "nbformat": 4,
 "nbformat_minor": 2
}
