{
 "cells": [
  {
   "cell_type": "code",
   "execution_count": 2,
   "metadata": {},
   "outputs": [],
   "source": [
    "import pandas as pd\n",
    "import numpy as np\n",
    "import os\n",
    "import random"
   ]
  },
  {
   "cell_type": "code",
   "execution_count": 3,
   "metadata": {},
   "outputs": [],
   "source": [
    "# generate 10,000 random numbers between 0 and 1\n",
    "length=10000\n",
    "idx=[]\n",
    "pred1_prob=[]\n",
    "pred2_prob=[]\n",
    "actual=[]\n",
    "\n",
    "for i in range(0,length):\n",
    "\n",
    "    idx.append(i)\n",
    "    pred1_prob.append(random.uniform(0, 1))\n",
    "    pred2_prob.append(random.uniform(0, 1))\n",
    "    actual.append(random.uniform(0, 1))"
   ]
  },
  {
   "cell_type": "code",
   "execution_count": 4,
   "metadata": {},
   "outputs": [],
   "source": [
    "# create dataframe\n",
    "df=pd.DataFrame()\n",
    "df['id']=idx\n",
    "df['pred1_prob']=pred1_prob\n",
    "df['pred2_prob']=pred2_prob\n",
    "df['actual']=actual\n",
    "\n",
    "# add boundaries\n",
    "df['pred1']=(df['pred1_prob'] > 0.5).astype(int)\n",
    "df['pred2']=(df['pred2_prob'] > 0.5).astype(int)\n",
    "df['actual']=(df['actual'] > 0.5).astype(int)"
   ]
  },
  {
   "cell_type": "code",
   "execution_count": 5,
   "metadata": {},
   "outputs": [],
   "source": [
    "# change directory\n",
    "mycwd = os.chdir('/Users/Ben/Desktop/model_validation/')"
   ]
  },
  {
   "cell_type": "code",
   "execution_count": 6,
   "metadata": {},
   "outputs": [],
   "source": [
    "# export\n",
    "df.to_csv('model_predictions.csv', index=False)"
   ]
  }
 ],
 "metadata": {
  "kernelspec": {
   "display_name": "Python 3",
   "language": "python",
   "name": "python3"
  },
  "language_info": {
   "codemirror_mode": {
    "name": "ipython",
    "version": 3
   },
   "file_extension": ".py",
   "mimetype": "text/x-python",
   "name": "python",
   "nbconvert_exporter": "python",
   "pygments_lexer": "ipython3",
   "version": "3.7.0"
  }
 },
 "nbformat": 4,
 "nbformat_minor": 2
}
